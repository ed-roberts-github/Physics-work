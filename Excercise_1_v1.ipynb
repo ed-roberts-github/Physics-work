{
  "nbformat": 4,
  "nbformat_minor": 0,
  "metadata": {
    "colab": {
      "name": "Excercise_1.ipynb",
      "provenance": [],
      "collapsed_sections": []
    },
    "kernelspec": {
      "name": "python3",
      "display_name": "Python 3"
    },
    "language_info": {
      "name": "python"
    }
  },
  "cells": [
    {
      "cell_type": "markdown",
      "source": [
        "##Excercise 1"
      ],
      "metadata": {
        "id": "nv1kTrKmFZj7"
      }
    },
    {
      "cell_type": "markdown",
      "source": [
        "##Core task 1"
      ],
      "metadata": {
        "id": "DvPv3lbNuhPD"
      }
    },
    {
      "cell_type": "code",
      "execution_count": null,
      "metadata": {
        "id": "QOhKMfqBugSf"
      },
      "outputs": [],
      "source": [
        "import matplotlib.pyplot as plt\n",
        "import numpy as np\n",
        "import scipy.integrate "
      ]
    },
    {
      "cell_type": "markdown",
      "source": [
        "Equation 2 is written as 2 1st order equations:\n",
        "\n",
        "y_1 = dy_0/dx\n",
        "\n",
        "d(y_1) = -g/l * sin(y_0) - q * Y_1 + fsin(omega_d*t)\n"
      ],
      "metadata": {
        "id": "4QWGzYVtyCVT"
      }
    },
    {
      "cell_type": "code",
      "source": [
        "#setting varibales\n",
        "g = 1\n",
        "l = 1\n",
        "q = 0\n",
        "f = 0\n",
        "omega_d = 2/3\n",
        "N = 10 #number of cycles\n",
        "T = 2* np.pi * N #End time\n",
        "theta_0 = 0.01\n",
        "omega_0 = 0.00\n",
        "\n",
        "\n",
        "def derivatives (t , y , g , l , q , f , omega_d):\n",
        "  \"\"\"\n",
        "  Returns the derivatives of the driven pendulum equation at t,y \n",
        "  \"\"\"\n",
        "  return [y[1], -g/l * np.sin(y[0]) - q * y[1] + f*np.sin(omega_d*t)]\n",
        "\n",
        "\n",
        "#applying RK45 using scipy\n",
        "solution  = scipy.integrate.solve_ivp(\n",
        "    fun = derivatives,\n",
        "    t_span = (0,T),\n",
        "    y0 = (theta_0,omega_0),\n",
        "    args = (g,l,q,f,omega_d),\n",
        "    t_eval = np.linspace(0,T,N*50)\n",
        ")\n",
        "\n",
        "x , y , dydx = solution.t, solution.y[0], solution.y[1]\n",
        "\n"
      ],
      "metadata": {
        "id": "NybGFG7iuuvC"
      },
      "execution_count": null,
      "outputs": []
    },
    {
      "cell_type": "code",
      "source": [
        "#plotting the angular speed\n",
        "fig, ax1 = plt.subplots()\n",
        "fig.set_figheight(7)\n",
        "fig.set_figwidth(10)\n",
        "ax1.plot(x, dydx, label = \"angular speed (rad/s)\")\n",
        "ax1.plot(x , -theta_0*np.sin(x), label = \"approximation\") #note this is onlt for q=f=0 and g=l=1\n",
        "ax1.set_xlabel(\"Time/s\") \n",
        "ax1.set_ylabel(\"Angular speed\")\n",
        "ax1.set_title(\"Evolution of a driven pendulum\")\n",
        "ax1.legend(loc = 'upper right')\n",
        "\n"
      ],
      "metadata": {
        "id": "uATICTQB6vyf"
      },
      "execution_count": null,
      "outputs": []
    },
    {
      "cell_type": "code",
      "source": [
        "def energy(y, dydx, m, g, l,y_0):\n",
        "  \"\"\"\n",
        "  Returns the change in energy of the pendulum at angle y and angular speed dydx\n",
        "  \"\"\"\n",
        "  return (m*g*l*(1-np.cos(y_0))) - (0.5*m*l*l*(dydx)**2 + m*g*l*(1-np.cos(y)))\n",
        "\n",
        "N = 10000\n",
        "m = 1 #simplest value of m\n",
        "delta_E = energy(y, dydx, m,g,l,theta_0)"
      ],
      "metadata": {
        "id": "I_YIirhJq22n"
      },
      "execution_count": null,
      "outputs": []
    },
    {
      "cell_type": "code",
      "source": [
        "fig, ax2 = plt.subplots()\n",
        "fig.set_figheight(7)\n",
        "fig.set_figwidth(10)\n",
        "ax2.plot(x,delta_E)\n",
        "ax2.set_xlabel(\"Time/s\") \n",
        "ax2.set_ylabel(\"Chance in energy\")\n",
        "ax2.set_title(\"Evolution of change in energy (theta_0 = 0.01)\");"
      ],
      "metadata": {
        "id": "KQqwlE9xq2n7"
      },
      "execution_count": null,
      "outputs": []
    },
    {
      "cell_type": "markdown",
      "source": [
        "We can see for small oscillations the difference in energy is small O(10^-8) and, despite osicallating, the difference remains of this order for a long time (10,000 cycles)"
      ],
      "metadata": {
        "id": "et4XVVGVnovD"
      }
    },
    {
      "cell_type": "code",
      "source": [
        "def time_period(x, y):\n",
        "  \"\"\"\n",
        "  Returns the time period of the pendulum\n",
        "  This is done by averaging across many zero crossings.\n",
        "  \"\"\"\n",
        "  zero_cross_times = []\n",
        "\n",
        "  #looping through the y values to find times at which the sign changes and adding them to a list\n",
        "  for i in range(len(y)-1):\n",
        "    if np.sign(y[i]) != np.sign(y[i+1]):\n",
        "      zero_cross_times.append(x[i])\n",
        "\n",
        "  return (2 * (zero_cross_times[len(zero_cross_times)-1] - zero_cross_times[0]))/ (len(zero_cross_times)-1)\n",
        "\n",
        "N = 20\n",
        "period = []\n",
        "theta_0 = 0.01\n",
        "theta_0_list = []\n",
        "\n",
        "#looping through different inital angles from 0.01 to 1.51 rad\n",
        "for i in range(0,16):\n",
        "  solution  = scipy.integrate.solve_ivp(\n",
        "      fun = derivatives,\n",
        "      t_span = (0,T),\n",
        "      y0 = (theta_0,omega_0),\n",
        "      args = (g,l,q,f,omega_d),\n",
        "      t_eval = np.linspace(0,T,N*50)\n",
        "  )\n",
        "\n",
        "  x , y , dydx = solution.t, solution.y[0], solution.y[1]\n",
        "\n",
        "  theta_0_list.append(theta_0)\n",
        "  period.append(time_period(x,y))\n",
        "  theta_0 += 0.1\n",
        "\n"
      ],
      "metadata": {
        "id": "D28zBcBFrN1O"
      },
      "execution_count": null,
      "outputs": []
    },
    {
      "cell_type": "code",
      "source": [
        "#plotting the time period data\n",
        "fig, ax1 = plt.subplots()\n",
        "fig.set_figheight(7)\n",
        "fig.set_figwidth(10)\n",
        "ax1.plot(theta_0_list, period)\n",
        "ax1.set_xlabel(\"Theta_0 rad\") \n",
        "ax1.set_ylabel(\"Time period\")\n",
        "ax1.set_title(\"Time period for various amplitudes\");"
      ],
      "metadata": {
        "id": "yWzPZHH2ylxO"
      },
      "execution_count": null,
      "outputs": []
    },
    {
      "cell_type": "code",
      "source": [
        "#finding the period specifically for theta_0 = pi/2\n",
        "\n",
        "N = 20\n",
        "theta_0 = 0.5 * np.pi\n",
        "\n",
        "solution  = scipy.integrate.solve_ivp(\n",
        "      fun = derivatives,\n",
        "      t_span = (0,T),\n",
        "      y0 = (theta_0,omega_0),\n",
        "      args = (g,l,q,f,omega_d),\n",
        "      t_eval = np.linspace(0,T,N*50)\n",
        "  )\n",
        "\n",
        "x , y , dydx = solution.t, solution.y[0], solution.y[1]\n",
        "\n",
        "period_half_pi = time_period(x , y)\n",
        "\n",
        "print(\"The time period for an inital amplitude of pi/2 is\", period_half_pi)"
      ],
      "metadata": {
        "id": "vIow9Q-I8Y5f"
      },
      "execution_count": null,
      "outputs": []
    },
    {
      "cell_type": "markdown",
      "source": [
        "## Conclusions from Core 1\n",
        "\n",
        "The equation for a pendulm with no driving or damping forces has been integrated successfully using a Runge-Kutta method from a scipy function. The solution was seen to match the anayltic solution obtained for small amplitudes.\n",
        "\n",
        "The energy conservation was observed to be of constant order (for theta_0 = 0.01 rad) for a long time showing the error was roughly of constant order.\n",
        "\n",
        "The time period of the pendulum for various amplitudes was found to increase with amplitude.\n",
        "\n",
        "The amplitude of the pendulum with inital amplitude of pi/2 was found to be 7.39.\n",
        "\n",
        "\n"
      ],
      "metadata": {
        "id": "7kCcj7TavKyG"
      }
    },
    {
      "cell_type": "markdown",
      "source": [
        "##Core task 2"
      ],
      "metadata": {
        "id": "pfS2VT2MFpD6"
      }
    },
    {
      "cell_type": "code",
      "source": [
        "g = 1\n",
        "m = 1\n",
        "l = 1\n",
        "q = 5\n",
        "f = 0.5\n",
        "omega_d = 2/3\n",
        "N = 10 #number of cycles\n",
        "T = 2* np.pi * N #End time\n",
        "theta_0 = 0.01\n",
        "omega_0 = 0.00"
      ],
      "metadata": {
        "id": "RubQaSA1FsWw"
      },
      "execution_count": null,
      "outputs": []
    },
    {
      "cell_type": "code",
      "source": [
        "def derivatives (t , y , g , l , q , f , omega_d):\n",
        "  \"\"\"\n",
        "  Returns the derivatives of the driven pendulum equation at t,y \n",
        "  \"\"\"\n",
        "  return [y[1], -g/l * np.sin(y[0]) - q * y[1] + f*np.sin(omega_d*t)]\n",
        "\n",
        "\n",
        "#applying RK45 using scipy\n",
        "solution  = scipy.integrate.solve_ivp(\n",
        "    fun = derivatives,\n",
        "    t_span = (0,T),\n",
        "    y0 = (theta_0,omega_0),\n",
        "    args = (g,l,q,f,omega_d),\n",
        "    t_eval = np.linspace(0,T,N*50)\n",
        ")\n",
        "\n",
        "x , y , dydx = solution.t, solution.y[0], solution.y[1]\n",
        "\n"
      ],
      "metadata": {
        "id": "Iu-_Pvb3GpSh"
      },
      "execution_count": null,
      "outputs": []
    },
    {
      "cell_type": "code",
      "source": [
        "#plotting the angular speed\n",
        "fig, ax1 = plt.subplots()\n",
        "fig.set_figheight(7)\n",
        "fig.set_figwidth(10)\n",
        "ax1.plot(x, dydx, label = \"angular speed (rad/s)\")\n",
        "ax1.set_xlabel(\"Time/s\") \n",
        "ax1.set_ylabel(\"Angular speed\")\n",
        "ax1.set_title(\"Evolution of a driven pendulum\")\n",
        "\n"
      ],
      "metadata": {
        "id": "IJ4T72Q5GxCV"
      },
      "execution_count": null,
      "outputs": []
    }
  ]
}
